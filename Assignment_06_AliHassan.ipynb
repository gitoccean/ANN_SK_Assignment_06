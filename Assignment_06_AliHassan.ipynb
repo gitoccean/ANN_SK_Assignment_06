{
  "nbformat": 4,
  "nbformat_minor": 0,
  "metadata": {
    "colab": {
      "provenance": []
    },
    "kernelspec": {
      "name": "python3",
      "display_name": "Python 3"
    },
    "language_info": {
      "name": "python"
    }
  },
  "cells": [
    {
      "cell_type": "markdown",
      "source": [
        "**Question 1:** Explain the basic structure and working of a simple Artificial Neural Network (ANN).\n",
        "In your explanation, include the following points:"
      ],
      "metadata": {
        "id": "ovxL5EEafBY1"
      }
    },
    {
      "cell_type": "markdown",
      "source": [
        "**The role of neurons and layers in an ANN :**\n",
        " Neurons and layers are the fundamental building blocks of artificial neural networks (ANNs) that enable them to learn complex patterns and perform various tasks. Here's an overview of their roles:\n",
        "\n",
        " **Neurons :**\n",
        "\n",
        "*   Neurons are the basic computational units in an ANN, inspired by\n",
        "biological neurons in the human brain.\n",
        "*   \n",
        "Each neuron receives inputs, performs a weighted sum of the inputs, adds a bias, and passes the result through an activation function to produce an output.\n",
        "\n",
        "\n",
        "*   The activation function introduces non-linearity, allowing the neuron to learn complex patterns.\n",
        "*   The strength of the connection between neurons is determined by weights, which are adjusted during the training process to minimize the difference between predicted and actual outputs.\n",
        "\n",
        "**Layers :**\n",
        "\n",
        "\n",
        "*   Layers are collections of interconnected neurons arranged in a\n",
        "specific structure.\n",
        "*   ANNs typically consist of an input layer, one or more hidden layers, and an output layer.\n",
        "\n",
        "\n",
        "*   The input layer receives the raw data or features.\n",
        "Hidden layers extract important information from the inputs and learn representations.\n",
        "*   The output layer produces the final predictions or outputs.\n",
        "The number of hidden layers determines the depth of the neural network, with deeper networks (more hidden layers) being able to learn more complex representations.\n",
        "\n",
        "\n",
        "\n",
        "\n",
        "\n",
        "\n",
        "\n",
        "Different types of layers, such as convolutional layers in Convolutional Neural Networks (CNNs) or recurrent layers in Recurrent Neural Networks (RNNs), are designed to handle specific types of data and tasks\n"
      ],
      "metadata": {
        "id": "KGafeAV1fNH0"
      }
    },
    {
      "cell_type": "markdown",
      "source": [
        "**How information flows through the network.**\n",
        "\n",
        "\n",
        "**Steps of Information Flow**\n",
        "\n",
        "**1. Data Preparation:**\n",
        "\n",
        "Before inputting data into the network, it is preprocessed. This may include normalization, resizing, or converting the data into a suitable format.\n",
        "\n",
        "**2. Initialization:**\n",
        "\n",
        " The neural network architecture is defined, including the number of layers, neurons per layer, and activation functions. This setup is crucial for how the network will process information.\n",
        "\n",
        "**3. Forward Pass:**\n",
        "\n",
        " The core of information flow occurs in the forward pass, where data is processed through the network. The forward method defines how input data moves through the layers:\n",
        "\n",
        "**Layer Operations:**\n",
        "\n",
        " Each layer performs a series of operations on the input data, including matrix multiplications, adding biases, and applying activation functions. These operations are determined by the weights and biases of the neurons.\n",
        "\n",
        "**4. Activation Functions:**\n",
        "\n",
        " After computing the weighted sum, an activation function (like ReLU, sigmoid, or tanh) is applied to introduce non-linearity, enabling the network to learn complex patterns.\n",
        "\n",
        "**5. Output Generation:**\n",
        "\n",
        " The final layer produces the output based on the processed information. This output can be a classification or a regression value, depending on the task.\n",
        "\n",
        "**6. Loss Calculation:**\n",
        "\n",
        " Once the output is generated, a loss function measures the difference between the predicted output and the actual target. This quantifies how well the network performed.\n",
        "\n",
        "**7. Backpropagation:**\n",
        "\n",
        " After calculating the loss, backpropagation is employed to compute gradients of the loss with respect to the weights and biases. This step is crucial for updating the model.\n",
        "\n",
        "**8. Optimization:**\n",
        "\n",
        " An optimization algorithm (like SGD or Adam) updates the weights and biases based on the gradients computed during backpropagation, aiming to minimize the loss function.\n",
        "\n",
        "**9. Training Loop:**\n",
        "\n",
        " The above steps are repeated iteratively for multiple epochs, allowing the network to learn from the data progressively.\n",
        "\n",
        "**Summary**\n",
        "\n",
        "In summary, information flows through a neural network by transforming input data through a series of layers and operations, culminating in an output that is refined through training. The forward pass is central to this process, where each layer's computations and activations shape the final predictions. This structured flow allows neural networks to learn complex relationships within data effectively"
      ],
      "metadata": {
        "id": "YWCmW65GrEI7"
      }
    },
    {
      "cell_type": "markdown",
      "source": [
        "**The significance of activation functions and provide examples of commonly used activation\n",
        "functions.**\n",
        "\n",
        "Activation functions are crucial components of neural networks, enabling them to learn complex patterns and relationships in data. They introduce non-linearity into the model, which allows the network to approximate any arbitrary function, making it a powerful tool for various machine learning tasks.\n",
        "\n",
        "**Significance of Activation Functions**\n",
        "\n",
        "**1. Non-linearity:**\n",
        "\n",
        " Activation functions allow neural networks to model non-linear relationships. Without them, a neural network with multiple layers would behave like a single-layer linear model, limiting its capacity to learn complex patterns.\n",
        "\n",
        "**2. Decision Making:**\n",
        "\n",
        " They determine whether a neuron should be activated based on the weighted sum of inputs. This decision-making capability is essential for the network to learn from data.\n",
        "\n",
        "**3. Gradient Flow:**\n",
        "\n",
        " Activation functions play a role in backpropagation, where gradients are propagated through the network. A well-chosen activation function can help maintain effective gradient flow, which is critical for training deep networks.\n",
        "\n",
        "**4. Output Normalization:**\n",
        "\n",
        " Some activation functions, like the sigmoid and softmax, normalize the output, making them suitable for specific tasks such as binary classification or multi-class classification."
      ],
      "metadata": {
        "id": "ejvcQG3lYyWL"
      }
    },
    {
      "cell_type": "markdown",
      "source": [
        "**The concept of weights and biases and their role in training an ANN.**\n",
        "\n",
        "Weights and biases are the fundamental parameters that control the behavior of an artificial neural network (ANN) and enable it to learn complex patterns from data. Here's an overview of their role in training an ANN:\n",
        "\n",
        "**Weights**\n",
        "\n",
        "1. Weights represent the strength of the connections between neurons in the network.\n",
        "\n",
        "2. They determine how much influence a particular input will have on the output of the neuron.\n",
        "\n",
        "3. During training, the weights are adjusted to minimize the difference between the predicted output and the true output.\n",
        "\n",
        "4. Adjusting the weights allows the network to learn the underlying patterns in the data and improve its performance on the task at hand.\n",
        "For example, in an image classification task, the weights connecting the input pixels to the hidden layers will learn to detect important features like edges, shapes, and textures\n",
        "\n",
        "**Biases**\n",
        "\n",
        "1. Biases are additional parameters added to the weighted sum of inputs before applying an activation function.\n",
        "2. They allow the neuron to shift its activation function to the left or right, effectively adjusting the threshold for activation.\n",
        "3. Biases provide an additional degree of freedom for the neuron to learn more complex functions.\n",
        "4. During training, the biases are also updated along with the weights to optimize the network's performance.\n",
        "For example, a bias can help a neuron activate only when a specific combination of inputs is present, enabling it to learn more specific patterns in the data\n",
        "\n",
        "**Training Process**\n",
        "\n",
        "**1. Initialization:**\n",
        "\n",
        " The weights and biases are initialized to small random values, typically following a normal distribution with zero mean and small variance.\n",
        "\n",
        "**2. Forward Propagation:**\n",
        "\n",
        " The input data is passed through the network, and each neuron computes its output based on the weighted sum of inputs and the bias.\n",
        "\n",
        "**3. Loss Calculation:**\n",
        "\n",
        " The output of the network is compared to the true labels or targets using a loss function, which quantifies the difference between the predicted and true outputs.\n",
        "\n",
        "**4. Backpropagation:**\n",
        "\n",
        " The gradients of the loss with respect to the weights and biases are computed using the backpropagation algorithm, which propagates the gradients from the output layer back to the input layer.\n",
        "\n",
        "**5. Optimization:**\n",
        "\n",
        " An optimization algorithm, such as Stochastic Gradient Descent (SGD) or Adam, is used to update the weights and biases in the direction that minimizes the loss function.\n",
        "\n",
        "**6. Iteration:**\n",
        "\n",
        " Steps 2-5 are repeated for multiple iterations (epochs) until the network converges to a solution that minimizes the loss on the training data.\n",
        "\n",
        "In summary, weights and biases are crucial parameters that enable ANNs to learn complex functions and adapt to the underlying patterns in the data. The training process involves iteratively adjusting these parameters to optimize the network's performance on a specific task."
      ],
      "metadata": {
        "id": "syz2IgN3bfSv"
      }
    },
    {
      "cell_type": "markdown",
      "source": [
        "**Question 2: Build a FCNN to recognize handwritten digits. Use MNIST handwritten digit data set.**\n"
      ],
      "metadata": {
        "id": "t2nFkoI_eYYH"
      }
    },
    {
      "cell_type": "code",
      "source": [
        "import numpy as np\n",
        "import pandas as pd\n",
        "import tensorflow"
      ],
      "metadata": {
        "id": "hJJZ8pwbf0aH"
      },
      "execution_count": 1,
      "outputs": []
    },
    {
      "cell_type": "code",
      "source": [
        "(x_train, y_train),(x_test, y_test) = tensorflow.keras.datasets.mnist.load_data()\n",
        "print(x_train.shape)\n",
        "print(x_train.dtype)\n",
        "x_train_df = pd.DataFrame(x_train.reshape(-1, 28*28))\n",
        "print(x_train_df.describe())\n",
        "# print(y_train)\n",
        "# print(x_test)\n",
        "# print(y_test)"
      ],
      "metadata": {
        "colab": {
          "base_uri": "https://localhost:8080/"
        },
        "id": "YhTVLI4gfnhl",
        "outputId": "79d380c4-a7ae-453c-e5f3-ae6fd4e5a959"
      },
      "execution_count": 2,
      "outputs": [
        {
          "output_type": "stream",
          "name": "stdout",
          "text": [
            "Downloading data from https://storage.googleapis.com/tensorflow/tf-keras-datasets/mnist.npz\n",
            "11490434/11490434 [==============================] - 0s 0us/step\n",
            "(60000, 28, 28)\n",
            "uint8\n",
            "           0        1        2        3        4        5        6        7    \\\n",
            "count  60000.0  60000.0  60000.0  60000.0  60000.0  60000.0  60000.0  60000.0   \n",
            "mean       0.0      0.0      0.0      0.0      0.0      0.0      0.0      0.0   \n",
            "std        0.0      0.0      0.0      0.0      0.0      0.0      0.0      0.0   \n",
            "min        0.0      0.0      0.0      0.0      0.0      0.0      0.0      0.0   \n",
            "25%        0.0      0.0      0.0      0.0      0.0      0.0      0.0      0.0   \n",
            "50%        0.0      0.0      0.0      0.0      0.0      0.0      0.0      0.0   \n",
            "75%        0.0      0.0      0.0      0.0      0.0      0.0      0.0      0.0   \n",
            "max        0.0      0.0      0.0      0.0      0.0      0.0      0.0      0.0   \n",
            "\n",
            "           8        9    ...           774           775           776  \\\n",
            "count  60000.0  60000.0  ...  60000.000000  60000.000000  60000.000000   \n",
            "mean       0.0      0.0  ...      0.200433      0.088867      0.045633   \n",
            "std        0.0      0.0  ...      6.042472      3.956189      2.839845   \n",
            "min        0.0      0.0  ...      0.000000      0.000000      0.000000   \n",
            "25%        0.0      0.0  ...      0.000000      0.000000      0.000000   \n",
            "50%        0.0      0.0  ...      0.000000      0.000000      0.000000   \n",
            "75%        0.0      0.0  ...      0.000000      0.000000      0.000000   \n",
            "max        0.0      0.0  ...    254.000000    254.000000    253.000000   \n",
            "\n",
            "                777           778         779      780      781      782  \\\n",
            "count  60000.000000  60000.000000  60000.0000  60000.0  60000.0  60000.0   \n",
            "mean       0.019283      0.015117      0.0020      0.0      0.0      0.0   \n",
            "std        1.686770      1.678283      0.3466      0.0      0.0      0.0   \n",
            "min        0.000000      0.000000      0.0000      0.0      0.0      0.0   \n",
            "25%        0.000000      0.000000      0.0000      0.0      0.0      0.0   \n",
            "50%        0.000000      0.000000      0.0000      0.0      0.0      0.0   \n",
            "75%        0.000000      0.000000      0.0000      0.0      0.0      0.0   \n",
            "max      253.000000    254.000000     62.0000      0.0      0.0      0.0   \n",
            "\n",
            "           783  \n",
            "count  60000.0  \n",
            "mean       0.0  \n",
            "std        0.0  \n",
            "min        0.0  \n",
            "25%        0.0  \n",
            "50%        0.0  \n",
            "75%        0.0  \n",
            "max        0.0  \n",
            "\n",
            "[8 rows x 784 columns]\n"
          ]
        }
      ]
    },
    {
      "cell_type": "code",
      "source": [
        "x_train = x_train.astype('float32')/255\n",
        "x_test = x_test.astype('float32')/255\n",
        "print(x_train.shape)\n",
        "print(x_test.shape)"
      ],
      "metadata": {
        "colab": {
          "base_uri": "https://localhost:8080/"
        },
        "id": "Wr2JXh-FiuDk",
        "outputId": "94e63cb6-d8a8-4706-e347-cc6fa617809b"
      },
      "execution_count": 3,
      "outputs": [
        {
          "output_type": "stream",
          "name": "stdout",
          "text": [
            "(60000, 28, 28)\n",
            "(10000, 28, 28)\n"
          ]
        }
      ]
    },
    {
      "cell_type": "code",
      "source": [
        "x_train = x_train.reshape(-1, 28*28)\n",
        "x_test = x_test.reshape(-1, 28*28)\n",
        "print(x_train.dtype)"
      ],
      "metadata": {
        "colab": {
          "base_uri": "https://localhost:8080/"
        },
        "id": "DzMZX6aTjvaa",
        "outputId": "3830e4b9-d39e-4515-9468-824311eaf3a1"
      },
      "execution_count": 4,
      "outputs": [
        {
          "output_type": "stream",
          "name": "stdout",
          "text": [
            "float32\n"
          ]
        }
      ]
    },
    {
      "cell_type": "code",
      "source": [
        "y_train = tensorflow.keras.utils.to_categorical(y_train, num_classes=10)\n",
        "y_test = tensorflow.keras.utils.to_categorical(y_test, num_classes=10)\n",
        "print(y_test)"
      ],
      "metadata": {
        "colab": {
          "base_uri": "https://localhost:8080/"
        },
        "id": "5ZWvyHCTk4O0",
        "outputId": "3c45cbfd-4474-4891-ffde-c402c464132c"
      },
      "execution_count": 5,
      "outputs": [
        {
          "output_type": "stream",
          "name": "stdout",
          "text": [
            "[[0. 0. 0. ... 1. 0. 0.]\n",
            " [0. 0. 1. ... 0. 0. 0.]\n",
            " [0. 1. 0. ... 0. 0. 0.]\n",
            " ...\n",
            " [0. 0. 0. ... 0. 0. 0.]\n",
            " [0. 0. 0. ... 0. 0. 0.]\n",
            " [0. 0. 0. ... 0. 0. 0.]]\n"
          ]
        }
      ]
    },
    {
      "cell_type": "code",
      "source": [
        "from tensorflow.keras.layers import Dense, Flatten\n",
        "from tensorflow.keras.models import Sequential\n",
        "model = Sequential()\n",
        "model.add(Flatten(input_shape=(28*28,)))\n",
        "model.add(Dense(128, activation='relu'))\n",
        "model.add(Dense(128, activation='relu'))\n",
        "model.add(Dense(10, activation='softmax'))\n",
        "\n",
        "print(model)"
      ],
      "metadata": {
        "colab": {
          "base_uri": "https://localhost:8080/"
        },
        "id": "LnuqdwvSl4sK",
        "outputId": "04164434-3b92-4862-b74c-43ddcecf162a"
      },
      "execution_count": 6,
      "outputs": [
        {
          "output_type": "stream",
          "name": "stdout",
          "text": [
            "<keras.src.engine.sequential.Sequential object at 0x7ef2827b7820>\n"
          ]
        }
      ]
    },
    {
      "cell_type": "code",
      "source": [
        "model.compile(loss='categorical_crossentropy',\n",
        "              optimizer='adam',\n",
        "              metrics=['accuracy'])\n",
        "print(model)\n",
        "history = model.fit(x_train,y_train, epochs=10, batch_size=32, validation_split=0.2)\n",
        "print(history)"
      ],
      "metadata": {
        "colab": {
          "base_uri": "https://localhost:8080/"
        },
        "id": "JeCc0gLCp8Yz",
        "outputId": "b03af0f6-cb23-406a-9a74-9b74f19e698e"
      },
      "execution_count": 7,
      "outputs": [
        {
          "output_type": "stream",
          "name": "stdout",
          "text": [
            "<keras.src.engine.sequential.Sequential object at 0x7ef2827b7820>\n",
            "Epoch 1/10\n",
            "1500/1500 [==============================] - 6s 4ms/step - loss: 0.2559 - accuracy: 0.9239 - val_loss: 0.1206 - val_accuracy: 0.9632\n",
            "Epoch 2/10\n",
            "1500/1500 [==============================] - 5s 3ms/step - loss: 0.1041 - accuracy: 0.9682 - val_loss: 0.1103 - val_accuracy: 0.9670\n",
            "Epoch 3/10\n",
            "1500/1500 [==============================] - 4s 3ms/step - loss: 0.0738 - accuracy: 0.9768 - val_loss: 0.1073 - val_accuracy: 0.9683\n",
            "Epoch 4/10\n",
            "1500/1500 [==============================] - 5s 4ms/step - loss: 0.0548 - accuracy: 0.9827 - val_loss: 0.0895 - val_accuracy: 0.9752\n",
            "Epoch 5/10\n",
            "1500/1500 [==============================] - 4s 3ms/step - loss: 0.0425 - accuracy: 0.9863 - val_loss: 0.0891 - val_accuracy: 0.9748\n",
            "Epoch 6/10\n",
            "1500/1500 [==============================] - 5s 3ms/step - loss: 0.0338 - accuracy: 0.9895 - val_loss: 0.0983 - val_accuracy: 0.9725\n",
            "Epoch 7/10\n",
            "1500/1500 [==============================] - 5s 3ms/step - loss: 0.0278 - accuracy: 0.9907 - val_loss: 0.1019 - val_accuracy: 0.9732\n",
            "Epoch 8/10\n",
            "1500/1500 [==============================] - 5s 3ms/step - loss: 0.0259 - accuracy: 0.9913 - val_loss: 0.0907 - val_accuracy: 0.9769\n",
            "Epoch 9/10\n",
            "1500/1500 [==============================] - 5s 4ms/step - loss: 0.0200 - accuracy: 0.9928 - val_loss: 0.1067 - val_accuracy: 0.9760\n",
            "Epoch 10/10\n",
            "1500/1500 [==============================] - 4s 3ms/step - loss: 0.0183 - accuracy: 0.9937 - val_loss: 0.1273 - val_accuracy: 0.9733\n",
            "<keras.src.callbacks.History object at 0x7ef27c4dc370>\n"
          ]
        }
      ]
    },
    {
      "cell_type": "code",
      "source": [
        "history = model.fit(x_train,y_train, epochs=10, batch_size=32, validation_split=0.2)\n",
        "print(history)"
      ],
      "metadata": {
        "colab": {
          "base_uri": "https://localhost:8080/"
        },
        "id": "iLEwg9FlrOuJ",
        "outputId": "a32aa3a4-7a00-435b-e0ae-57de57d947f7"
      },
      "execution_count": 8,
      "outputs": [
        {
          "output_type": "stream",
          "name": "stdout",
          "text": [
            "Epoch 1/10\n",
            "1500/1500 [==============================] - 7s 5ms/step - loss: 0.0172 - accuracy: 0.9943 - val_loss: 0.1203 - val_accuracy: 0.9745\n",
            "Epoch 2/10\n",
            "1500/1500 [==============================] - 5s 3ms/step - loss: 0.0148 - accuracy: 0.9947 - val_loss: 0.1265 - val_accuracy: 0.9734\n",
            "Epoch 3/10\n",
            "1500/1500 [==============================] - 5s 4ms/step - loss: 0.0157 - accuracy: 0.9950 - val_loss: 0.1231 - val_accuracy: 0.9750\n",
            "Epoch 4/10\n",
            "1500/1500 [==============================] - 5s 3ms/step - loss: 0.0126 - accuracy: 0.9957 - val_loss: 0.1163 - val_accuracy: 0.9761\n",
            "Epoch 5/10\n",
            "1500/1500 [==============================] - 5s 4ms/step - loss: 0.0132 - accuracy: 0.9958 - val_loss: 0.1112 - val_accuracy: 0.9778\n",
            "Epoch 6/10\n",
            "1500/1500 [==============================] - 5s 3ms/step - loss: 0.0115 - accuracy: 0.9963 - val_loss: 0.1453 - val_accuracy: 0.9723\n",
            "Epoch 7/10\n",
            "1500/1500 [==============================] - 5s 3ms/step - loss: 0.0096 - accuracy: 0.9969 - val_loss: 0.1404 - val_accuracy: 0.9751\n",
            "Epoch 8/10\n",
            "1500/1500 [==============================] - 5s 4ms/step - loss: 0.0119 - accuracy: 0.9962 - val_loss: 0.1293 - val_accuracy: 0.9788\n",
            "Epoch 9/10\n",
            "1500/1500 [==============================] - 5s 3ms/step - loss: 0.0128 - accuracy: 0.9965 - val_loss: 0.1474 - val_accuracy: 0.9731\n",
            "Epoch 10/10\n",
            "1500/1500 [==============================] - 6s 4ms/step - loss: 0.0098 - accuracy: 0.9968 - val_loss: 0.1405 - val_accuracy: 0.9783\n",
            "<keras.src.callbacks.History object at 0x7ef27c58ab90>\n"
          ]
        }
      ]
    },
    {
      "cell_type": "code",
      "source": [
        "test_loss, test_accuracy = model.evaluate(x_test,y_test)\n",
        "print(f'Model loss = {test_loss : .4f}')\n",
        "print(f'Model Accuracy = {test_accuracy : .4f}')"
      ],
      "metadata": {
        "colab": {
          "base_uri": "https://localhost:8080/"
        },
        "id": "ZEKPw6RZumcX",
        "outputId": "1a173213-2212-40f1-d5d1-b4b12cf792a6"
      },
      "execution_count": 9,
      "outputs": [
        {
          "output_type": "stream",
          "name": "stdout",
          "text": [
            "313/313 [==============================] - 1s 1ms/step - loss: 0.1346 - accuracy: 0.9774\n",
            "Model loss =  0.1346\n",
            "Model Accuracy =  0.9774\n"
          ]
        }
      ]
    },
    {
      "cell_type": "code",
      "source": [
        "import matplotlib.pyplot as plt\n",
        "\n",
        "plt.plot(history.history['accuracy'])\n",
        "plt.plot(history.history['val_accuracy'])\n",
        "plt.title('Model Accuracy')\n",
        "plt.ylabel('Accuracy')\n",
        "plt.xlabel('Epochs')\n",
        "plt.legend(['Train','Validation'],loc='upper left')\n",
        "plt.show()"
      ],
      "metadata": {
        "colab": {
          "base_uri": "https://localhost:8080/",
          "height": 472
        },
        "id": "C45-CjFbv3T2",
        "outputId": "ebd33119-cee5-4cb5-aebc-3000c40ce9a8"
      },
      "execution_count": 10,
      "outputs": [
        {
          "output_type": "display_data",
          "data": {
            "text/plain": [
              "<Figure size 640x480 with 1 Axes>"
            ],
            "image/png": "[encoded data removed]"
          },
          "metadata": {}
        }
      ]
    },
    {
      "cell_type": "markdown",
      "source": [
        "**Question 3: Explain the importance of hyperparameter tuning in training an ANN. List at least\n",
        "three hyperparameters commonly tuned in ANN training and describe their impact on the\n",
        "model's performance.**\n",
        "\n",
        "\n",
        "Hyperparameter tuning is a critical process in training artificial neural networks (ANNs) as it directly influences the model's performance, accuracy, and ability to generalize to unseen data. Unlike model parameters, which are learned during training, hyperparameters are set before the training process begins and dictate how the learning occurs. Proper tuning of these hyperparameters can lead to improved model efficiency and effectiveness, while poor choices can result in underfitting or overfitting.\n",
        "\n",
        "**Importance of Hyperparameter Tuning**\n",
        "\n",
        "**Model Performance:**\n",
        "\n",
        " Hyperparameter tuning helps in optimizing the model's performance on a specific task, ensuring that the model minimizes the loss function effectively. This leads to better accuracy and fewer errors in predictions.\n",
        "\n",
        "**Generalization:**\n",
        "\n",
        " Tuning hyperparameters is essential for enhancing the model's ability to generalize from training data to unseen data. This is crucial for practical applications where the model encounters new inputs.\n",
        "\n",
        "**Resource Efficiency:**\n",
        "\n",
        " By optimizing hyperparameters, one can achieve better performance without unnecessarily increasing computational costs or training time. Efficient tuning can lead to faster convergence and reduced training cycles.\n",
        "\n",
        "**Commonly Tuned Hyperparameters**\n",
        "\n",
        "**1. Learning Rate:**\n",
        "\n",
        "**Impact:** The learning rate controls the size of the steps taken during optimization. A small learning rate can lead to slow convergence, while a large one may cause the model to diverge or oscillate around the minimum. Proper tuning of the learning rate is essential for achieving a balance between speed and stability in training.\n",
        "\n",
        "**2. Number of Hidden Layers:**\n",
        "\n",
        "**Impact:** This hyperparameter affects the model's capacity to learn complex patterns. More layers can capture more intricate relationships in data, but too many can lead to overfitting, where the model learns noise rather than the underlying distribution. Finding the right number of layers is crucial for optimal performance.\n",
        "\n",
        "**3. Batch Size:**\n",
        "\n",
        "**Impact:** The batch size determines how many training examples are processed before the model's internal parameters are updated. Smaller batch sizes can provide a more accurate estimate of the gradient but may lead to longer training times, while larger batch sizes can speed up training but may reduce the model's ability to generalize.\n",
        "Tuning these hyperparameters effectively can significantly enhance the performance of an ANN, making it a vital step in the machine learning workflow."
      ],
      "metadata": {
        "id": "by1qqN9n6x9d"
      }
    },
    {
      "cell_type": "markdown",
      "source": [
        "**Question 4: Write a Python script to create and compare the performance of an ANN using\n",
        "different activation functions (ReLU, Sigmoid, and Tanh) for the hidden layers. Use a simple\n",
        "dataset (e.g., Iris dataset) to train and evaluate the models. Report the accuracy for each\n",
        "activation function.**"
      ],
      "metadata": {
        "id": "YXChO7w38BQw"
      }
    },
    {
      "cell_type": "code",
      "source": [
        "import numpy as np\n",
        "import sklearn\n",
        "import tensorflow"
      ],
      "metadata": {
        "id": "gRhcNdnkEvzM"
      },
      "execution_count": 11,
      "outputs": []
    },
    {
      "cell_type": "code",
      "source": [
        "from sklearn.datasets import load_iris\n",
        "import pandas as pd\n",
        "data = load_iris()\n",
        "X = data.data\n",
        "Y = data.target\n"
      ],
      "metadata": {
        "id": "uG6rKNNXE-w6"
      },
      "execution_count": 12,
      "outputs": []
    },
    {
      "cell_type": "code",
      "source": [
        "from sklearn.model_selection import train_test_split\n",
        "x_train, x_test, y_train, y_test = train_test_split(X,Y, test_size=0.2, random_state=42)"
      ],
      "metadata": {
        "id": "r2-6ClNkGNer"
      },
      "execution_count": 13,
      "outputs": []
    },
    {
      "cell_type": "code",
      "source": [
        "from keras.layers import Flatten, Dense\n",
        "from keras.optimizers import Adam\n",
        "from keras.models import Sequential\n",
        "\n",
        "def train_model(activation_function):\n",
        "  model = Sequential()\n",
        "  model.add(Flatten(input_dim=4))\n",
        "  model.add(Dense(8, activation=activation_function))\n",
        "  model.add(Dense(3, activation='softmax'))\n",
        "  model.compile(loss='sparse_categorical_crossentropy', optimizer=Adam(), metrics=['accuracy'])\n",
        "  model.fit(x_train, y_train, epochs=10, batch_size=32, verbose=0)\n",
        "  return model\n",
        "\n",
        "models = {\n",
        "    'Relu' : train_model('relu'),\n",
        "    'Sigmoid' : train_model('sigmoid'),\n",
        "    'Tanh' : train_model('tanh')\n",
        "}\n",
        "for activation_function, model in models.items():\n",
        "     _ , accuracy = model.evaluate(x_test, y_test, verbose=2)\n",
        "     print(f\"Accuracy with {activation_function} activation function: {accuracy * 100:.2f}%\")"
      ],
      "metadata": {
        "colab": {
          "base_uri": "https://localhost:8080/"
        },
        "id": "q5CESSwYHQbw",
        "outputId": "45c30e85-a0e8-4cf4-e74b-d1e3dc0e07e0"
      },
      "execution_count": 14,
      "outputs": [
        {
          "output_type": "stream",
          "name": "stdout",
          "text": [
            "1/1 - 0s - loss: 1.9496 - accuracy: 0.3000 - 101ms/epoch - 101ms/step\n",
            "Accuracy with Relu activation function: 30.00%\n",
            "1/1 - 0s - loss: 1.2272 - accuracy: 0.3333 - 115ms/epoch - 115ms/step\n",
            "Accuracy with Sigmoid activation function: 33.33%\n",
            "1/1 - 0s - loss: 0.7287 - accuracy: 0.7000 - 110ms/epoch - 110ms/step\n",
            "Accuracy with Tanh activation function: 70.00%\n"
          ]
        }
      ]
    },
    {
      "cell_type": "markdown",
      "source": [
        "**Question 5: Weather Prediction Using Fully Connected Neural Networks. (Marks 20)**\n",
        "\n",
        "● Write code to load historical weather data from a CSV file.\n",
        "\n",
        "● Preprocess the data by handling missing values, converting categorical variables to numerical,\n",
        "and normalizing numerical features.\n",
        "\n",
        "● Write code to create a neural network model using TensorFlow or Keras, with appropriate input,\n",
        "hidden, and output layers.\n",
        "\n",
        "● Write code to train the neural network model using the training data, and include validation to\n",
        "monitor performance.\n",
        "\n",
        "● Write code to evaluate the model on the test dataset and print the mean squared error.\n",
        "\n",
        "● Experiment with different configurations of the model and hyperparameters to improve\n",
        "performance. Document the impact of changes.\n",
        "\n",
        "● Write code to predict weather conditions using new or unseen data and interpret the results."
      ],
      "metadata": {
        "id": "cmfGSKur7zSD"
      }
    },
    {
      "cell_type": "code",
      "source": [
        "import numpy as np\n",
        "import pandas as pd\n",
        "import warnings\n",
        "warnings.filterwarnings('ignore')\n",
        "import tensorflow"
      ],
      "metadata": {
        "id": "UFI2hMNCwCjm"
      },
      "execution_count": 15,
      "outputs": []
    },
    {
      "cell_type": "code",
      "source": [
        "# Test File\n",
        "file_path_test = '/content/Weather Test Data.csv'\n",
        "\n",
        "# Train File\n",
        "file_path_train = '/content/Weather Training Data.csv'\n",
        "\n",
        "# Load file\n",
        "df_test = pd.read_csv(file_path_test)\n",
        "df_train = pd.read_csv(file_path_train)\n",
        "\n",
        "print(\"test\", df_test.head())\n",
        "print(\"train\", df_train.head())\n",
        "\n",
        "# print(data.describe())\n",
        "# print(data.shape)\n",
        "# print(data.info)\n",
        "# print()\n"
      ],
      "metadata": {
        "colab": {
          "base_uri": "https://localhost:8080/"
        },
        "id": "ig9UkB9M5j_y",
        "outputId": "3491e95f-89a2-41fc-8dc9-b41ed1f5af4d"
      },
      "execution_count": 16,
      "outputs": [
        {
          "output_type": "stream",
          "name": "stdout",
          "text": [
            "test   row ID Location  MinTemp  MaxTemp  Rainfall  Evaporation  Sunshine  \\\n",
            "0   Row0   Albury     12.9     25.7       0.0          NaN       NaN   \n",
            "1   Row1   Albury      9.2     28.0       0.0          NaN       NaN   \n",
            "2   Row2   Albury     14.3     25.0       0.0          NaN       NaN   \n",
            "3   Row3   Albury      9.7     31.9       0.0          NaN       NaN   \n",
            "4   Row4   Albury     15.9     18.6      15.6          NaN       NaN   \n",
            "\n",
            "  WindGustDir  WindGustSpeed WindDir9am  ... WindSpeed3pm  Humidity9am  \\\n",
            "0         WSW           46.0          W  ...         26.0         38.0   \n",
            "1          NE           24.0         SE  ...          9.0         45.0   \n",
            "2           W           50.0         SW  ...         24.0         49.0   \n",
            "3         NNW           80.0         SE  ...         28.0         42.0   \n",
            "4           W           61.0        NNW  ...         28.0         76.0   \n",
            "\n",
            "   Humidity3pm  Pressure9am  Pressure3pm  Cloud9am  Cloud3pm  Temp9am  \\\n",
            "0         30.0       1007.6       1008.7       NaN       2.0     21.0   \n",
            "1         16.0       1017.6       1012.8       NaN       NaN     18.1   \n",
            "2         19.0       1009.6       1008.2       1.0       NaN     18.1   \n",
            "3          9.0       1008.9       1003.6       NaN       NaN     18.3   \n",
            "4         93.0        994.3        993.0       8.0       8.0     17.4   \n",
            "\n",
            "   Temp3pm  RainToday  \n",
            "0     23.2         No  \n",
            "1     26.5         No  \n",
            "2     24.6         No  \n",
            "3     30.2         No  \n",
            "4     15.8        Yes  \n",
            "\n",
            "[5 rows x 22 columns]\n",
            "train   row ID Location  MinTemp  MaxTemp  Rainfall  Evaporation  Sunshine  \\\n",
            "0   Row0   Albury     13.4     22.9       0.6          NaN       NaN   \n",
            "1   Row1   Albury      7.4     25.1       0.0          NaN       NaN   \n",
            "2   Row2   Albury     17.5     32.3       1.0          NaN       NaN   \n",
            "3   Row3   Albury     14.6     29.7       0.2          NaN       NaN   \n",
            "4   Row4   Albury      7.7     26.7       0.0          NaN       NaN   \n",
            "\n",
            "  WindGustDir  WindGustSpeed WindDir9am  ... Humidity9am  Humidity3pm  \\\n",
            "0           W           44.0          W  ...        71.0         22.0   \n",
            "1         WNW           44.0        NNW  ...        44.0         25.0   \n",
            "2           W           41.0        ENE  ...        82.0         33.0   \n",
            "3         WNW           56.0          W  ...        55.0         23.0   \n",
            "4           W           35.0        SSE  ...        48.0         19.0   \n",
            "\n",
            "   Pressure9am  Pressure3pm  Cloud9am  Cloud3pm  Temp9am  Temp3pm  RainToday  \\\n",
            "0       1007.7       1007.1       8.0       NaN     16.9     21.8         No   \n",
            "1       1010.6       1007.8       NaN       NaN     17.2     24.3         No   \n",
            "2       1010.8       1006.0       7.0       8.0     17.8     29.7         No   \n",
            "3       1009.2       1005.4       NaN       NaN     20.6     28.9         No   \n",
            "4       1013.4       1010.1       NaN       NaN     16.3     25.5         No   \n",
            "\n",
            "   RainTomorrow  \n",
            "0             0  \n",
            "1             0  \n",
            "2             0  \n",
            "3             0  \n",
            "4             0  \n",
            "\n",
            "[5 rows x 23 columns]\n"
          ]
        }
      ]
    },
    {
      "cell_type": "code",
      "source": [
        "from sklearn.model_selection import train_test_split\n",
        "from sklearn.preprocessing import StandardScaler, LabelEncoder\n",
        "\n",
        "print(df_train.shape)\n",
        "print(df_train.columns)\n",
        "print(df_train.head())\n",
        "print(df_train.info())\n",
        "print(df_train.describe())\n",
        "df_train.isnull().sum()\n",
        "df_train.isnull().sum()/len(df_train)*100"
      ],
      "metadata": {
        "colab": {
          "base_uri": "https://localhost:8080/"
        },
        "id": "QzxRDEjh_D_r",
        "outputId": "ee021779-54ca-49bf-ccf9-7453027e49ed"
      },
      "execution_count": 17,
      "outputs": [
        {
          "output_type": "stream",
          "name": "stdout",
          "text": [
            "(99516, 23)\n",
            "Index(['row ID', 'Location', 'MinTemp', 'MaxTemp', 'Rainfall', 'Evaporation',\n",
            "       'Sunshine', 'WindGustDir', 'WindGustSpeed', 'WindDir9am', 'WindDir3pm',\n",
            "       'WindSpeed9am', 'WindSpeed3pm', 'Humidity9am', 'Humidity3pm',\n",
            "       'Pressure9am', 'Pressure3pm', 'Cloud9am', 'Cloud3pm', 'Temp9am',\n",
            "       'Temp3pm', 'RainToday', 'RainTomorrow'],\n",
            "      dtype='object')\n",
            "  row ID Location  MinTemp  MaxTemp  Rainfall  Evaporation  Sunshine  \\\n",
            "0   Row0   Albury     13.4     22.9       0.6          NaN       NaN   \n",
            "1   Row1   Albury      7.4     25.1       0.0          NaN       NaN   \n",
            "2   Row2   Albury     17.5     32.3       1.0          NaN       NaN   \n",
            "3   Row3   Albury     14.6     29.7       0.2          NaN       NaN   \n",
            "4   Row4   Albury      7.7     26.7       0.0          NaN       NaN   \n",
            "\n",
            "  WindGustDir  WindGustSpeed WindDir9am  ... Humidity9am  Humidity3pm  \\\n",
            "0           W           44.0          W  ...        71.0         22.0   \n",
            "1         WNW           44.0        NNW  ...        44.0         25.0   \n",
            "2           W           41.0        ENE  ...        82.0         33.0   \n",
            "3         WNW           56.0          W  ...        55.0         23.0   \n",
            "4           W           35.0        SSE  ...        48.0         19.0   \n",
            "\n",
            "   Pressure9am  Pressure3pm  Cloud9am  Cloud3pm  Temp9am  Temp3pm  RainToday  \\\n",
            "0       1007.7       1007.1       8.0       NaN     16.9     21.8         No   \n",
            "1       1010.6       1007.8       NaN       NaN     17.2     24.3         No   \n",
            "2       1010.8       1006.0       7.0       8.0     17.8     29.7         No   \n",
            "3       1009.2       1005.4       NaN       NaN     20.6     28.9         No   \n",
            "4       1013.4       1010.1       NaN       NaN     16.3     25.5         No   \n",
            "\n",
            "   RainTomorrow  \n",
            "0             0  \n",
            "1             0  \n",
            "2             0  \n",
            "3             0  \n",
            "4             0  \n",
            "\n",
            "[5 rows x 23 columns]\n",
            "<class 'pandas.core.frame.DataFrame'>\n",
            "RangeIndex: 99516 entries, 0 to 99515\n",
            "Data columns (total 23 columns):\n",
            " #   Column         Non-Null Count  Dtype  \n",
            "---  ------         --------------  -----  \n",
            " 0   row ID         99516 non-null  object \n",
            " 1   Location       99516 non-null  object \n",
            " 2   MinTemp        99073 non-null  float64\n",
            " 3   MaxTemp        99286 non-null  float64\n",
            " 4   Rainfall       98537 non-null  float64\n",
            " 5   Evaporation    56985 non-null  float64\n",
            " 6   Sunshine       52199 non-null  float64\n",
            " 7   WindGustDir    92995 non-null  object \n",
            " 8   WindGustSpeed  93036 non-null  float64\n",
            " 9   WindDir9am     92510 non-null  object \n",
            " 10  WindDir3pm     96868 non-null  object \n",
            " 11  WindSpeed9am   98581 non-null  float64\n",
            " 12  WindSpeed3pm   97681 non-null  float64\n",
            " 13  Humidity9am    98283 non-null  float64\n",
            " 14  Humidity3pm    97010 non-null  float64\n",
            " 15  Pressure9am    89768 non-null  float64\n",
            " 16  Pressure3pm    89780 non-null  float64\n",
            " 17  Cloud9am       61944 non-null  float64\n",
            " 18  Cloud3pm       59514 non-null  float64\n",
            " 19  Temp9am        98902 non-null  float64\n",
            " 20  Temp3pm        97612 non-null  float64\n",
            " 21  RainToday      98537 non-null  object \n",
            " 22  RainTomorrow   99516 non-null  int64  \n",
            "dtypes: float64(16), int64(1), object(6)\n",
            "memory usage: 17.5+ MB\n",
            "None\n",
            "            MinTemp       MaxTemp      Rainfall  Evaporation      Sunshine  \\\n",
            "count  99073.000000  99286.000000  98537.000000  56985.00000  52199.000000   \n",
            "mean      12.176266     23.218513      2.353024      5.46132      7.615090   \n",
            "std        6.390882      7.115072      8.487866      4.16249      3.783008   \n",
            "min       -8.500000     -4.100000      0.000000      0.00000      0.000000   \n",
            "25%        7.600000     17.900000      0.000000      2.60000      4.800000   \n",
            "50%       12.000000     22.600000      0.000000      4.80000      8.400000   \n",
            "75%       16.800000     28.200000      0.800000      7.40000     10.600000   \n",
            "max       33.900000     48.100000    371.000000     86.20000     14.500000   \n",
            "\n",
            "       WindGustSpeed  WindSpeed9am  WindSpeed3pm   Humidity9am   Humidity3pm  \\\n",
            "count   93036.000000  98581.000000  97681.000000  98283.000000  97010.000000   \n",
            "mean       39.976966     14.004849     18.650464     68.866376     51.433296   \n",
            "std        13.581524      8.902323      8.801827     19.074951     20.777616   \n",
            "min         6.000000      0.000000      0.000000      0.000000      0.000000   \n",
            "25%        31.000000      7.000000     13.000000     57.000000     37.000000   \n",
            "50%        39.000000     13.000000     19.000000     70.000000     52.000000   \n",
            "75%        48.000000     19.000000     24.000000     83.000000     65.000000   \n",
            "max       135.000000    130.000000     87.000000    100.000000    100.000000   \n",
            "\n",
            "        Pressure9am   Pressure3pm      Cloud9am      Cloud3pm       Temp9am  \\\n",
            "count  89768.000000  89780.000000  61944.000000  59514.000000  98902.000000   \n",
            "mean    1017.684638   1015.286204      4.447985      4.519122     16.970041   \n",
            "std        7.110166      7.045189      2.886580      2.716618      6.488961   \n",
            "min      980.500000    978.200000      0.000000      0.000000     -7.000000   \n",
            "25%     1013.000000   1010.500000      1.000000      2.000000     12.300000   \n",
            "50%     1017.700000   1015.300000      5.000000      5.000000     16.700000   \n",
            "75%     1022.400000   1020.000000      7.000000      7.000000     21.500000   \n",
            "max     1041.000000   1039.600000      9.000000      9.000000     40.200000   \n",
            "\n",
            "            Temp3pm  RainTomorrow  \n",
            "count  97612.000000  99516.000000  \n",
            "mean      21.681340      0.224677  \n",
            "std        6.931681      0.417372  \n",
            "min       -5.100000      0.000000  \n",
            "25%       16.600000      0.000000  \n",
            "50%       21.100000      0.000000  \n",
            "75%       26.400000      0.000000  \n",
            "max       46.700000      1.000000  \n"
          ]
        },
        {
          "output_type": "execute_result",
          "data": {
            "text/plain": [
              "row ID            0.000000\n",
              "Location          0.000000\n",
              "MinTemp           0.445155\n",
              "MaxTemp           0.231119\n",
              "Rainfall          0.983761\n",
              "Evaporation      42.737851\n",
              "Sunshine         47.547128\n",
              "WindGustDir       6.552715\n",
              "WindGustSpeed     6.511516\n",
              "WindDir9am        7.040074\n",
              "WindDir3pm        2.660879\n",
              "WindSpeed9am      0.939547\n",
              "WindSpeed3pm      1.843925\n",
              "Humidity9am       1.238997\n",
              "Humidity3pm       2.518188\n",
              "Pressure9am       9.795410\n",
              "Pressure3pm       9.783351\n",
              "Cloud9am         37.754733\n",
              "Cloud3pm         40.196551\n",
              "Temp9am           0.616986\n",
              "Temp3pm           1.913260\n",
              "RainToday         0.983761\n",
              "RainTomorrow      0.000000\n",
              "dtype: float64"
            ]
          },
          "metadata": {},
          "execution_count": 17
        }
      ]
    },
    {
      "cell_type": "code",
      "source": [
        "columns_to_remove = ['Evaporation','Sunshine']\n",
        "df_train.drop(columns=columns_to_remove, inplace=True)\n",
        "print(df_train.columns)"
      ],
      "metadata": {
        "colab": {
          "base_uri": "https://localhost:8080/"
        },
        "id": "jE3OCPpNiXoO",
        "outputId": "8b894f99-64f5-4680-ccad-069feea6cc36"
      },
      "execution_count": 18,
      "outputs": [
        {
          "output_type": "stream",
          "name": "stdout",
          "text": [
            "Index(['row ID', 'Location', 'MinTemp', 'MaxTemp', 'Rainfall', 'WindGustDir',\n",
            "       'WindGustSpeed', 'WindDir9am', 'WindDir3pm', 'WindSpeed9am',\n",
            "       'WindSpeed3pm', 'Humidity9am', 'Humidity3pm', 'Pressure9am',\n",
            "       'Pressure3pm', 'Cloud9am', 'Cloud3pm', 'Temp9am', 'Temp3pm',\n",
            "       'RainToday', 'RainTomorrow'],\n",
            "      dtype='object')\n"
          ]
        }
      ]
    },
    {
      "cell_type": "code",
      "source": [
        "df_train.isnull().sum()/len(df_train)*100"
      ],
      "metadata": {
        "colab": {
          "base_uri": "https://localhost:8080/"
        },
        "id": "L7TcSNZKnTH9",
        "outputId": "88b73cdf-5efc-43f6-d30c-c2194f4a2417"
      },
      "execution_count": 19,
      "outputs": [
        {
          "output_type": "execute_result",
          "data": {
            "text/plain": [
              "row ID            0.000000\n",
              "Location          0.000000\n",
              "MinTemp           0.445155\n",
              "MaxTemp           0.231119\n",
              "Rainfall          0.983761\n",
              "WindGustDir       6.552715\n",
              "WindGustSpeed     6.511516\n",
              "WindDir9am        7.040074\n",
              "WindDir3pm        2.660879\n",
              "WindSpeed9am      0.939547\n",
              "WindSpeed3pm      1.843925\n",
              "Humidity9am       1.238997\n",
              "Humidity3pm       2.518188\n",
              "Pressure9am       9.795410\n",
              "Pressure3pm       9.783351\n",
              "Cloud9am         37.754733\n",
              "Cloud3pm         40.196551\n",
              "Temp9am           0.616986\n",
              "Temp3pm           1.913260\n",
              "RainToday         0.983761\n",
              "RainTomorrow      0.000000\n",
              "dtype: float64"
            ]
          },
          "metadata": {},
          "execution_count": 19
        }
      ]
    },
    {
      "cell_type": "code",
      "source": [
        "df_train['MinTemp'] = df_train['MinTemp'].fillna(df_train['MinTemp'].median())\n",
        "df_train['MaxTemp'] = df_train['MaxTemp'].fillna(df_train['MaxTemp'].median())\n",
        "df_train['Rainfall'] = df_train['Rainfall'].fillna(df_train['Rainfall'].median())\n",
        "df_train['WindGustDir'] = df_train['WindGustDir'].fillna(df_train['WindGustDir'].mode()[0])\n",
        "df_train['WindGustSpeed'] = df_train['WindGustSpeed'].fillna(df_train['WindGustSpeed'].median())\n",
        "df_train['WindDir9am'] = df_train['WindDir9am'].fillna(df_train['WindDir9am'].mode()[0])\n",
        "df_train['WindDir3pm'] = df_train['WindDir3pm'].fillna(df_train['WindDir3pm'].mode()[0])\n",
        "df_train['WindSpeed9am'] = df_train['WindSpeed9am'].fillna(df_train['WindSpeed9am'].median())\n",
        "df_train['WindSpeed3pm'] = df_train['WindSpeed3pm'].fillna(df_train['WindSpeed3pm'].median())\n",
        "df_train['Humidity9am'] = df_train['Humidity9am'].fillna(df_train['Humidity9am'].median())\n",
        "df_train['Humidity3pm'] = df_train['Humidity3pm'].fillna(df_train['Humidity3pm'].median())\n",
        "df_train['Pressure9am'] = df_train['Pressure9am'].fillna(df_train['Pressure9am'].median())\n",
        "df_train['Pressure3pm'] = df_train['Pressure3pm'].fillna(df_train['Pressure3pm'].median())\n",
        "df_train['Cloud9am'] = df_train['Cloud9am'].fillna(df_train['Cloud9am'].median())\n",
        "df_train['Cloud3pm'] = df_train['Cloud3pm'].fillna(df_train['Cloud3pm'].median())\n",
        "df_train['Temp9am'] = df_train['Temp9am'].fillna(df_train['Temp9am'].median())\n",
        "df_train['Temp3pm'] = df_train['Temp3pm'].fillna(df_train['Temp3pm'].median())\n",
        "df_train['RainToday'] = df_train['RainToday'].fillna(df_train['RainToday'].mode()[0])\n",
        "\n",
        "\n",
        "\n",
        "\n",
        "\n",
        "\n",
        "\n",
        "\n",
        "\n",
        "\n",
        "\n"
      ],
      "metadata": {
        "id": "6w5zrIDcnlzQ"
      },
      "execution_count": 20,
      "outputs": []
    },
    {
      "cell_type": "code",
      "source": [
        "df_train.isnull().sum()/len(df_train)*100\n",
        "df_train.duplicated().sum()\n",
        "len(df_train.columns)"
      ],
      "metadata": {
        "colab": {
          "base_uri": "https://localhost:8080/"
        },
        "id": "sfY-TNRTzbn7",
        "outputId": "39dc26ea-6e7b-4328-a359-911d92b9acf0"
      },
      "execution_count": 21,
      "outputs": [
        {
          "output_type": "execute_result",
          "data": {
            "text/plain": [
              "21"
            ]
          },
          "metadata": {},
          "execution_count": 21
        }
      ]
    },
    {
      "cell_type": "code",
      "source": [
        "from sklearn.preprocessing import LabelEncoder\n",
        "\n",
        "categorical_columns = ['RainToday', 'WindDir3pm', 'WindDir9am', 'WindGustDir', 'row ID', 'Location', ]\n",
        "# Convert categorical features to numerical']\n",
        "\n",
        "label_encoder = LabelEncoder()\n",
        "\n",
        "for column in categorical_columns:\n",
        "  df_train[column] = label_encoder.fit_transform(df_train[column])\n",
        ""
      ],
      "metadata": {
        "id": "1Vz3B6Pe1Jds"
      },
      "execution_count": 22,
      "outputs": []
    },
    {
      "cell_type": "code",
      "source": [
        "df_train.head()"
      ],
      "metadata": {
        "colab": {
          "base_uri": "https://localhost:8080/",
          "height": 273
        },
        "id": "Sb-MZwpI3Ykl",
        "outputId": "1540abfc-77b4-4a23-a26d-8cdb0463a18b"
      },
      "execution_count": 23,
      "outputs": [
        {
          "output_type": "execute_result",
          "data": {
            "text/plain": [
              "   row ID  Location  MinTemp  MaxTemp  Rainfall  WindGustDir  WindGustSpeed  \\\n",
              "0       0         2     13.4     22.9       0.6           13           44.0   \n",
              "1       1         2      7.4     25.1       0.0           14           44.0   \n",
              "2   12595         2     17.5     32.3       1.0           13           41.0   \n",
              "3   23294         2     14.6     29.7       0.2           14           56.0   \n",
              "4   34220         2      7.7     26.7       0.0           13           35.0   \n",
              "\n",
              "   WindDir9am  WindDir3pm  WindSpeed9am  ...  Humidity9am  Humidity3pm  \\\n",
              "0          13          14          20.0  ...         71.0         22.0   \n",
              "1           6          15           4.0  ...         44.0         25.0   \n",
              "2           1           7           7.0  ...         82.0         33.0   \n",
              "3          13          13          19.0  ...         55.0         23.0   \n",
              "4          10          13           6.0  ...         48.0         19.0   \n",
              "\n",
              "   Pressure9am  Pressure3pm  Cloud9am  Cloud3pm  Temp9am  Temp3pm  RainToday  \\\n",
              "0       1007.7       1007.1       8.0       5.0     16.9     21.8          0   \n",
              "1       1010.6       1007.8       5.0       5.0     17.2     24.3          0   \n",
              "2       1010.8       1006.0       7.0       8.0     17.8     29.7          0   \n",
              "3       1009.2       1005.4       5.0       5.0     20.6     28.9          0   \n",
              "4       1013.4       1010.1       5.0       5.0     16.3     25.5          0   \n",
              "\n",
              "   RainTomorrow  \n",
              "0             0  \n",
              "1             0  \n",
              "2             0  \n",
              "3             0  \n",
              "4             0  \n",
              "\n",
              "[5 rows x 21 columns]"
            ],
            "text/html": [
              "\n",
              "  <div id=\"df-ff6aaaac-db04-4036-b460-c598a7eb2365\" class=\"colab-df-container\">\n",
              "    <div>\n",
              "<style scoped>\n",
              "    .dataframe tbody tr th:only-of-type {\n",
              "        vertical-align: middle;\n",
              "    }\n",
              "\n",
              "    .dataframe tbody tr th {\n",
              "        vertical-align: top;\n",
              "    }\n",
              "\n",
              "    .dataframe thead th {\n",
              "        text-align: right;\n",
              "    }\n",
              "</style>\n",
              "<table border=\"1\" class=\"dataframe\">\n",
              "  <thead>\n",
              "    <tr style=\"text-align: right;\">\n",
              "      <th></th>\n",
              "      <th>row ID</th>\n",
              "      <th>Location</th>\n",
              "      <th>MinTemp</th>\n",
              "      <th>MaxTemp</th>\n",
              "      <th>Rainfall</th>\n",
              "      <th>WindGustDir</th>\n",
              "      <th>WindGustSpeed</th>\n",
              "      <th>WindDir9am</th>\n",
              "      <th>WindDir3pm</th>\n",
              "      <th>WindSpeed9am</th>\n",
              "      <th>...</th>\n",
              "      <th>Humidity9am</th>\n",
              "      <th>Humidity3pm</th>\n",
              "      <th>Pressure9am</th>\n",
              "      <th>Pressure3pm</th>\n",
              "      <th>Cloud9am</th>\n",
              "      <th>Cloud3pm</th>\n",
              "      <th>Temp9am</th>\n",
              "      <th>Temp3pm</th>\n",
              "      <th>RainToday</th>\n",
              "      <th>RainTomorrow</th>\n",
              "    </tr>\n",
              "  </thead>\n",
              "  <tbody>\n",
              "    <tr>\n",
              "      <th>0</th>\n",
              "      <td>0</td>\n",
              "      <td>2</td>\n",
              "      <td>13.4</td>\n",
              "      <td>22.9</td>\n",
              "      <td>0.6</td>\n",
              "      <td>13</td>\n",
              "      <td>44.0</td>\n",
              "      <td>13</td>\n",
              "      <td>14</td>\n",
              "      <td>20.0</td>\n",
              "      <td>...</td>\n",
              "      <td>71.0</td>\n",
              "      <td>22.0</td>\n",
              "      <td>1007.7</td>\n",
              "      <td>1007.1</td>\n",
              "      <td>8.0</td>\n",
              "      <td>5.0</td>\n",
              "      <td>16.9</td>\n",
              "      <td>21.8</td>\n",
              "      <td>0</td>\n",
              "      <td>0</td>\n",
              "    </tr>\n",
              "    <tr>\n",
              "      <th>1</th>\n",
              "      <td>1</td>\n",
              "      <td>2</td>\n",
              "      <td>7.4</td>\n",
              "      <td>25.1</td>\n",
              "      <td>0.0</td>\n",
              "      <td>14</td>\n",
              "      <td>44.0</td>\n",
              "      <td>6</td>\n",
              "      <td>15</td>\n",
              "      <td>4.0</td>\n",
              "      <td>...</td>\n",
              "      <td>44.0</td>\n",
              "      <td>25.0</td>\n",
              "      <td>1010.6</td>\n",
              "      <td>1007.8</td>\n",
              "      <td>5.0</td>\n",
              "      <td>5.0</td>\n",
              "      <td>17.2</td>\n",
              "      <td>24.3</td>\n",
              "      <td>0</td>\n",
              "      <td>0</td>\n",
              "    </tr>\n",
              "    <tr>\n",
              "      <th>2</th>\n",
              "      <td>12595</td>\n",
              "      <td>2</td>\n",
              "      <td>17.5</td>\n",
              "      <td>32.3</td>\n",
              "      <td>1.0</td>\n",
              "      <td>13</td>\n",
              "      <td>41.0</td>\n",
              "      <td>1</td>\n",
              "      <td>7</td>\n",
              "      <td>7.0</td>\n",
              "      <td>...</td>\n",
              "      <td>82.0</td>\n",
              "      <td>33.0</td>\n",
              "      <td>1010.8</td>\n",
              "      <td>1006.0</td>\n",
              "      <td>7.0</td>\n",
              "      <td>8.0</td>\n",
              "      <td>17.8</td>\n",
              "      <td>29.7</td>\n",
              "      <td>0</td>\n",
              "      <td>0</td>\n",
              "    </tr>\n",
              "    <tr>\n",
              "      <th>3</th>\n",
              "      <td>23294</td>\n",
              "      <td>2</td>\n",
              "      <td>14.6</td>\n",
              "      <td>29.7</td>\n",
              "      <td>0.2</td>\n",
              "      <td>14</td>\n",
              "      <td>56.0</td>\n",
              "      <td>13</td>\n",
              "      <td>13</td>\n",
              "      <td>19.0</td>\n",
              "      <td>...</td>\n",
              "      <td>55.0</td>\n",
              "      <td>23.0</td>\n",
              "      <td>1009.2</td>\n",
              "      <td>1005.4</td>\n",
              "      <td>5.0</td>\n",
              "      <td>5.0</td>\n",
              "      <td>20.6</td>\n",
              "      <td>28.9</td>\n",
              "      <td>0</td>\n",
              "      <td>0</td>\n",
              "    </tr>\n",
              "    <tr>\n",
              "      <th>4</th>\n",
              "      <td>34220</td>\n",
              "      <td>2</td>\n",
              "      <td>7.7</td>\n",
              "      <td>26.7</td>\n",
              "      <td>0.0</td>\n",
              "      <td>13</td>\n",
              "      <td>35.0</td>\n",
              "      <td>10</td>\n",
              "      <td>13</td>\n",
              "      <td>6.0</td>\n",
              "      <td>...</td>\n",
              "      <td>48.0</td>\n",
              "      <td>19.0</td>\n",
              "      <td>1013.4</td>\n",
              "      <td>1010.1</td>\n",
              "      <td>5.0</td>\n",
              "      <td>5.0</td>\n",
              "      <td>16.3</td>\n",
              "      <td>25.5</td>\n",
              "      <td>0</td>\n",
              "      <td>0</td>\n",
              "    </tr>\n",
              "  </tbody>\n",
              "</table>\n",
              "<p>5 rows × 21 columns</p>\n",
              "</div>\n",
              "    <div class=\"colab-df-buttons\">\n",
              "\n",
              "  <div class=\"colab-df-container\">\n",
              "    <button class=\"colab-df-convert\" onclick=\"convertToInteractive('df-ff6aaaac-db04-4036-b460-c598a7eb2365')\"\n",
              "            title=\"Convert this dataframe to an interactive table.\"\n",
              "            style=\"display:none;\">\n",
              "\n",
              "  <svg xmlns=\"http://www.w3.org/2000/svg\" height=\"24px\" viewBox=\"0 -960 960 960\">\n",
              "    <path d=\"M120-120v-720h720v720H120Zm60-500h600v-160H180v160Zm220 220h160v-160H400v160Zm0 220h160v-160H400v160ZM180-400h160v-160H180v160Zm440 0h160v-160H620v160ZM180-180h160v-160H180v160Zm440 0h160v-160H620v160Z\"/>\n",
              "  </svg>\n",
              "    </button>\n",
              "\n",
              "  <style>\n",
              "    .colab-df-container {\n",
              "      display:flex;\n",
              "      gap: 12px;\n",
              "    }\n",
              "\n",
              "    .colab-df-convert {\n",
              "      background-color: #E8F0FE;\n",
              "      border: none;\n",
              "      border-radius: 50%;\n",
              "      cursor: pointer;\n",
              "      display: none;\n",
              "      fill: #1967D2;\n",
              "      height: 32px;\n",
              "      padding: 0 0 0 0;\n",
              "      width: 32px;\n",
              "    }\n",
              "\n",
              "    .colab-df-convert:hover {\n",
              "      background-color: #E2EBFA;\n",
              "      box-shadow: 0px 1px 2px rgba(60, 64, 67, 0.3), 0px 1px 3px 1px rgba(60, 64, 67, 0.15);\n",
              "      fill: #174EA6;\n",
              "    }\n",
              "\n",
              "    .colab-df-buttons div {\n",
              "      margin-bottom: 4px;\n",
              "    }\n",
              "\n",
              "    [theme=dark] .colab-df-convert {\n",
              "      background-color: #3B4455;\n",
              "      fill: #D2E3FC;\n",
              "    }\n",
              "\n",
              "    [theme=dark] .colab-df-convert:hover {\n",
              "      background-color: #434B5C;\n",
              "      box-shadow: 0px 1px 3px 1px rgba(0, 0, 0, 0.15);\n",
              "      filter: drop-shadow(0px 1px 2px rgba(0, 0, 0, 0.3));\n",
              "      fill: #FFFFFF;\n",
              "    }\n",
              "  </style>\n",
              "\n",
              "    <script>\n",
              "      const buttonEl =\n",
              "        document.querySelector('#df-ff6aaaac-db04-4036-b460-c598a7eb2365 button.colab-df-convert');\n",
              "      buttonEl.style.display =\n",
              "        google.colab.kernel.accessAllowed ? 'block' : 'none';\n",
              "\n",
              "      async function convertToInteractive(key) {\n",
              "        const element = document.querySelector('#df-ff6aaaac-db04-4036-b460-c598a7eb2365');\n",
              "        const dataTable =\n",
              "          await google.colab.kernel.invokeFunction('convertToInteractive',\n",
              "                                                    [key], {});\n",
              "        if (!dataTable) return;\n",
              "\n",
              "        const docLinkHtml = 'Like what you see? Visit the ' +\n",
              "          '<a target=\"_blank\" href=https://colab.research.google.com/notebooks/data_table.ipynb>data table notebook</a>'\n",
              "          + ' to learn more about interactive tables.';\n",
              "        element.innerHTML = '';\n",
              "        dataTable['output_type'] = 'display_data';\n",
              "        await google.colab.output.renderOutput(dataTable, element);\n",
              "        const docLink = document.createElement('div');\n",
              "        docLink.innerHTML = docLinkHtml;\n",
              "        element.appendChild(docLink);\n",
              "      }\n",
              "    </script>\n",
              "  </div>\n",
              "\n",
              "\n",
              "<div id=\"df-01d7c6c2-6f1a-4cfc-8949-ad8061161bf6\">\n",
              "  <button class=\"colab-df-quickchart\" onclick=\"quickchart('df-01d7c6c2-6f1a-4cfc-8949-ad8061161bf6')\"\n",
              "            title=\"Suggest charts\"\n",
              "            style=\"display:none;\">\n",
              "\n",
              "<svg xmlns=\"http://www.w3.org/2000/svg\" height=\"24px\"viewBox=\"0 0 24 24\"\n",
              "     width=\"24px\">\n",
              "    <g>\n",
              "        <path d=\"M19 3H5c-1.1 0-2 .9-2 2v14c0 1.1.9 2 2 2h14c1.1 0 2-.9 2-2V5c0-1.1-.9-2-2-2zM9 17H7v-7h2v7zm4 0h-2V7h2v10zm4 0h-2v-4h2v4z\"/>\n",
              "    </g>\n",
              "</svg>\n",
              "  </button>\n",
              "\n",
              "<style>\n",
              "  .colab-df-quickchart {\n",
              "      --bg-color: #E8F0FE;\n",
              "      --fill-color: #1967D2;\n",
              "      --hover-bg-color: #E2EBFA;\n",
              "      --hover-fill-color: #174EA6;\n",
              "      --disabled-fill-color: #AAA;\n",
              "      --disabled-bg-color: #DDD;\n",
              "  }\n",
              "\n",
              "  [theme=dark] .colab-df-quickchart {\n",
              "      --bg-color: #3B4455;\n",
              "      --fill-color: #D2E3FC;\n",
              "      --hover-bg-color: #434B5C;\n",
              "      --hover-fill-color: #FFFFFF;\n",
              "      --disabled-bg-color: #3B4455;\n",
              "      --disabled-fill-color: #666;\n",
              "  }\n",
              "\n",
              "  .colab-df-quickchart {\n",
              "    background-color: var(--bg-color);\n",
              "    border: none;\n",
              "    border-radius: 50%;\n",
              "    cursor: pointer;\n",
              "    display: none;\n",
              "    fill: var(--fill-color);\n",
              "    height: 32px;\n",
              "    padding: 0;\n",
              "    width: 32px;\n",
              "  }\n",
              "\n",
              "  .colab-df-quickchart:hover {\n",
              "    background-color: var(--hover-bg-color);\n",
              "    box-shadow: 0 1px 2px rgba(60, 64, 67, 0.3), 0 1px 3px 1px rgba(60, 64, 67, 0.15);\n",
              "    fill: var(--button-hover-fill-color);\n",
              "  }\n",
              "\n",
              "  .colab-df-quickchart-complete:disabled,\n",
              "  .colab-df-quickchart-complete:disabled:hover {\n",
              "    background-color: var(--disabled-bg-color);\n",
              "    fill: var(--disabled-fill-color);\n",
              "    box-shadow: none;\n",
              "  }\n",
              "\n",
              "  .colab-df-spinner {\n",
              "    border: 2px solid var(--fill-color);\n",
              "    border-color: transparent;\n",
              "    border-bottom-color: var(--fill-color);\n",
              "    animation:\n",
              "      spin 1s steps(1) infinite;\n",
              "  }\n",
              "\n",
              "  @keyframes spin {\n",
              "    0% {\n",
              "      border-color: transparent;\n",
              "      border-bottom-color: var(--fill-color);\n",
              "      border-left-color: var(--fill-color);\n",
              "    }\n",
              "    20% {\n",
              "      border-color: transparent;\n",
              "      border-left-color: var(--fill-color);\n",
              "      border-top-color: var(--fill-color);\n",
              "    }\n",
              "    30% {\n",
              "      border-color: transparent;\n",
              "      border-left-color: var(--fill-color);\n",
              "      border-top-color: var(--fill-color);\n",
              "      border-right-color: var(--fill-color);\n",
              "    }\n",
              "    40% {\n",
              "      border-color: transparent;\n",
              "      border-right-color: var(--fill-color);\n",
              "      border-top-color: var(--fill-color);\n",
              "    }\n",
              "    60% {\n",
              "      border-color: transparent;\n",
              "      border-right-color: var(--fill-color);\n",
              "    }\n",
              "    80% {\n",
              "      border-color: transparent;\n",
              "      border-right-color: var(--fill-color);\n",
              "      border-bottom-color: var(--fill-color);\n",
              "    }\n",
              "    90% {\n",
              "      border-color: transparent;\n",
              "      border-bottom-color: var(--fill-color);\n",
              "    }\n",
              "  }\n",
              "</style>\n",
              "\n",
              "  <script>\n",
              "    async function quickchart(key) {\n",
              "      const quickchartButtonEl =\n",
              "        document.querySelector('#' + key + ' button');\n",
              "      quickchartButtonEl.disabled = true;  // To prevent multiple clicks.\n",
              "      quickchartButtonEl.classList.add('colab-df-spinner');\n",
              "      try {\n",
              "        const charts = await google.colab.kernel.invokeFunction(\n",
              "            'suggestCharts', [key], {});\n",
              "      } catch (error) {\n",
              "        console.error('Error during call to suggestCharts:', error);\n",
              "      }\n",
              "      quickchartButtonEl.classList.remove('colab-df-spinner');\n",
              "      quickchartButtonEl.classList.add('colab-df-quickchart-complete');\n",
              "    }\n",
              "    (() => {\n",
              "      let quickchartButtonEl =\n",
              "        document.querySelector('#df-01d7c6c2-6f1a-4cfc-8949-ad8061161bf6 button');\n",
              "      quickchartButtonEl.style.display =\n",
              "        google.colab.kernel.accessAllowed ? 'block' : 'none';\n",
              "    })();\n",
              "  </script>\n",
              "</div>\n",
              "\n",
              "    </div>\n",
              "  </div>\n"
            ],
            "application/vnd.google.colaboratory.intrinsic+json": {
              "type": "dataframe",
              "variable_name": "df_train"
            }
          },
          "metadata": {},
          "execution_count": 23
        }
      ]
    },
    {
      "cell_type": "code",
      "source": [
        "X = df_train.drop('RainTomorrow', axis=1)\n",
        "y = df_train['RainTomorrow']"
      ],
      "metadata": {
        "id": "ryN1s1y-4s3J"
      },
      "execution_count": 24,
      "outputs": []
    },
    {
      "cell_type": "code",
      "source": [
        "from sklearn.model_selection import train_test_split\n",
        "\n",
        "X_train, X_test, y_train, y_test = train_test_split(X, y, test_size=0.2, random_state=42)\n"
      ],
      "metadata": {
        "id": "EJPEHevX5fiD"
      },
      "execution_count": 25,
      "outputs": []
    },
    {
      "cell_type": "code",
      "source": [
        "from sklearn.preprocessing import StandardScaler\n",
        "\n",
        "Scaler = StandardScaler()\n",
        "Scaler.fit_transform(X_train, y_train)"
      ],
      "metadata": {
        "colab": {
          "base_uri": "https://localhost:8080/"
        },
        "id": "YqMf6trs7mCH",
        "outputId": "7cc443b0-dac4-472b-ce7e-bc6de77add23"
      },
      "execution_count": 26,
      "outputs": [
        {
          "output_type": "execute_result",
          "data": {
            "text/plain": [
              "array([[ 0.07274808,  1.42396292,  0.2546827 , ...,  0.37440604,\n",
              "         1.06506639, -0.53173339],\n",
              "       [ 1.72647934, -0.54357849, -0.02734692, ..., -0.04255777,\n",
              "         1.79274387, -0.53173339],\n",
              "       [-1.32824516,  0.72126956, -0.07435186, ..., -0.56762331,\n",
              "        -0.69591311,  1.88064173],\n",
              "       ...,\n",
              "       [ 0.92264846,  1.5645016 ,  0.70906377, ...,  0.99213021,\n",
              "         1.03595929, -0.53173339],\n",
              "       [ 1.2333651 , -1.5273492 , -0.2467033 , ..., -0.5367371 ,\n",
              "        -0.08466403, -0.53173339],\n",
              "       [-1.44026751,  0.22938421,  0.22334608, ..., -0.04255777,\n",
              "        -0.62314537,  1.88064173]])"
            ]
          },
          "metadata": {},
          "execution_count": 26
        }
      ]
    },
    {
      "cell_type": "markdown",
      "source": [
        "**ANN Model**"
      ],
      "metadata": {
        "id": "_tZMnZYY9vKR"
      }
    },
    {
      "cell_type": "code",
      "source": [
        "from keras.models import Sequential\n",
        "from keras.layers import Flatten, Dense\n",
        "from keras.optimizers import Adam\n",
        "\n",
        "model = Sequential()\n",
        "model.add(Flatten( input_dim=X_train.shape[1]))\n",
        "model.add(Dense(32, activation='relu'))\n",
        "model.add(Dense(64, activation='relu'))\n",
        "# our model accuracy is 83% but we try improved accuracy. i will add new layer\n",
        "model.add(Dense(64, activation='relu'))\n",
        "model.add(Dense(1, activation='sigmoid'))\n",
        "\n",
        "model.compile(loss='binary_crossentropy', optimizer='Adam', metrics=['accuracy'])\n",
        "model.summary()\n"
      ],
      "metadata": {
        "colab": {
          "base_uri": "https://localhost:8080/"
        },
        "id": "AQrtisD7901o",
        "outputId": "da996ac4-4068-4ecb-f421-cc641edfcc94"
      },
      "execution_count": 27,
      "outputs": [
        {
          "output_type": "stream",
          "name": "stdout",
          "text": [
            "Model: \"sequential_4\"\n",
            "_________________________________________________________________\n",
            " Layer (type)                Output Shape              Param #   \n",
            "=================================================================\n",
            " flatten_4 (Flatten)         (None, 20)                0         \n",
            "                                                                 \n",
            " dense_9 (Dense)             (None, 32)                672       \n",
            "                                                                 \n",
            " dense_10 (Dense)            (None, 64)                2112      \n",
            "                                                                 \n",
            " dense_11 (Dense)            (None, 64)                4160      \n",
            "                                                                 \n",
            " dense_12 (Dense)            (None, 1)                 65        \n",
            "                                                                 \n",
            "=================================================================\n",
            "Total params: 7009 (27.38 KB)\n",
            "Trainable params: 7009 (27.38 KB)\n",
            "Non-trainable params: 0 (0.00 Byte)\n",
            "_________________________________________________________________\n"
          ]
        }
      ]
    },
    {
      "cell_type": "code",
      "source": [
        "history = model.fit(X_train, y_train, epochs=30, batch_size=32, validation_data=(X_test, y_test))\n"
      ],
      "metadata": {
        "colab": {
          "base_uri": "https://localhost:8080/"
        },
        "id": "CxNGy6oe-nQ5",
        "outputId": "57ac08a1-bc50-47fb-f18a-4b96be539981"
      },
      "execution_count": 28,
      "outputs": [
        {
          "output_type": "stream",
          "name": "stdout",
          "text": [
            "Epoch 1/30\n",
            "2482/2488 [============================>.] - ETA: 0s - loss: 27.5478 - accuracy: 0.6751"
          ]
        },
        {
          "output_type": "stream",
          "name": "stderr",
          "text": [
            "WARNING:tensorflow:5 out of the last 317 calls to <function Model.make_test_function.<locals>.test_function at 0x7ef27d7a49d0> triggered tf.function retracing. Tracing is expensive and the excessive number of tracings could be due to (1) creating @tf.function repeatedly in a loop, (2) passing tensors with different shapes, (3) passing Python objects instead of tensors. For (1), please define your @tf.function outside of the loop. For (2), @tf.function has reduce_retracing=True option that can avoid unnecessary retracing. For (3), please refer to https://www.tensorflow.org/guide/function#controlling_retracing and https://www.tensorflow.org/api_docs/python/tf/function for  more details.\n"
          ]
        },
        {
          "output_type": "stream",
          "name": "stdout",
          "text": [
            "\b\b\b\b\b\b\b\b\b\b\b\b\b\b\b\b\b\b\b\b\b\b\b\b\b\b\b\b\b\b\b\b\b\b\b\b\b\b\b\b\b\b\b\b\b\b\b\b\b\b\b\b\b\b\b\b\b\b\b\b\b\b\b\b\b\b\b\b\b\b\b\b\b\b\b\b\b\b\b\b\b\b\b\b\b\b\b\r2488/2488 [==============================] - 6s 2ms/step - loss: 27.4934 - accuracy: 0.6752 - val_loss: 3.6890 - val_accuracy: 0.4568\n",
            "Epoch 2/30\n",
            "2488/2488 [==============================] - 4s 2ms/step - loss: 5.0813 - accuracy: 0.7206 - val_loss: 1.9188 - val_accuracy: 0.7981\n",
            "Epoch 3/30\n",
            "2488/2488 [==============================] - 4s 2ms/step - loss: 1.6852 - accuracy: 0.7476 - val_loss: 0.4511 - val_accuracy: 0.8302\n",
            "Epoch 4/30\n",
            "2488/2488 [==============================] - 5s 2ms/step - loss: 0.6709 - accuracy: 0.7768 - val_loss: 0.5257 - val_accuracy: 0.7837\n",
            "Epoch 5/30\n",
            "2488/2488 [==============================] - 4s 2ms/step - loss: 0.4616 - accuracy: 0.8019 - val_loss: 0.4148 - val_accuracy: 0.8283\n",
            "Epoch 6/30\n",
            "2488/2488 [==============================] - 5s 2ms/step - loss: 0.4707 - accuracy: 0.7762 - val_loss: 0.4568 - val_accuracy: 0.7761\n",
            "Epoch 7/30\n",
            "2488/2488 [==============================] - 4s 2ms/step - loss: 0.5136 - accuracy: 0.7765 - val_loss: 0.5328 - val_accuracy: 0.7742\n",
            "Epoch 8/30\n",
            "2488/2488 [==============================] - 4s 2ms/step - loss: 0.5310 - accuracy: 0.7755 - val_loss: 0.5348 - val_accuracy: 0.7728\n",
            "Epoch 9/30\n",
            "2488/2488 [==============================] - 5s 2ms/step - loss: 0.5297 - accuracy: 0.7757 - val_loss: 0.5275 - val_accuracy: 0.7738\n",
            "Epoch 10/30\n",
            "2488/2488 [==============================] - 4s 2ms/step - loss: 0.5308 - accuracy: 0.7755 - val_loss: 0.5317 - val_accuracy: 0.7740\n",
            "Epoch 11/30\n",
            "2488/2488 [==============================] - 4s 2ms/step - loss: 0.5296 - accuracy: 0.7757 - val_loss: 0.5313 - val_accuracy: 0.7740\n",
            "Epoch 12/30\n",
            "2488/2488 [==============================] - 5s 2ms/step - loss: 0.5297 - accuracy: 0.7756 - val_loss: 0.5318 - val_accuracy: 0.7740\n",
            "Epoch 13/30\n",
            "2488/2488 [==============================] - 4s 2ms/step - loss: 0.5314 - accuracy: 0.7757 - val_loss: 0.5325 - val_accuracy: 0.7740\n",
            "Epoch 14/30\n",
            "2488/2488 [==============================] - 4s 2ms/step - loss: 0.5327 - accuracy: 0.7757 - val_loss: 0.5321 - val_accuracy: 0.7740\n",
            "Epoch 15/30\n",
            "2488/2488 [==============================] - 5s 2ms/step - loss: 0.5298 - accuracy: 0.7757 - val_loss: 0.5307 - val_accuracy: 0.7745\n",
            "Epoch 16/30\n",
            "2488/2488 [==============================] - 4s 2ms/step - loss: 0.5289 - accuracy: 0.7758 - val_loss: 0.5314 - val_accuracy: 0.7741\n",
            "Epoch 17/30\n",
            "2488/2488 [==============================] - 4s 2ms/step - loss: 0.5302 - accuracy: 0.7759 - val_loss: 0.5321 - val_accuracy: 0.7740\n",
            "Epoch 18/30\n",
            "2488/2488 [==============================] - 5s 2ms/step - loss: 0.5300 - accuracy: 0.7755 - val_loss: 0.5314 - val_accuracy: 0.7738\n",
            "Epoch 19/30\n",
            "2488/2488 [==============================] - 4s 2ms/step - loss: 0.5304 - accuracy: 0.7757 - val_loss: 0.5350 - val_accuracy: 0.7738\n",
            "Epoch 20/30\n",
            "2488/2488 [==============================] - 5s 2ms/step - loss: 0.5359 - accuracy: 0.7759 - val_loss: 0.5313 - val_accuracy: 0.7749\n",
            "Epoch 21/30\n",
            "2488/2488 [==============================] - 5s 2ms/step - loss: 0.5279 - accuracy: 0.7766 - val_loss: 0.5297 - val_accuracy: 0.7749\n",
            "Epoch 22/30\n",
            "2488/2488 [==============================] - 4s 2ms/step - loss: 0.5310 - accuracy: 0.7769 - val_loss: 0.5315 - val_accuracy: 0.7738\n",
            "Epoch 23/30\n",
            "2488/2488 [==============================] - 6s 2ms/step - loss: 0.5289 - accuracy: 0.7763 - val_loss: 0.5322 - val_accuracy: 0.7740\n",
            "Epoch 24/30\n",
            "2488/2488 [==============================] - 4s 2ms/step - loss: 0.5297 - accuracy: 0.7757 - val_loss: 0.5319 - val_accuracy: 0.7740\n",
            "Epoch 25/30\n",
            "2488/2488 [==============================] - 4s 2ms/step - loss: 0.5296 - accuracy: 0.7757 - val_loss: 0.5311 - val_accuracy: 0.7740\n",
            "Epoch 26/30\n",
            "2488/2488 [==============================] - 5s 2ms/step - loss: 0.5307 - accuracy: 0.7757 - val_loss: 0.5309 - val_accuracy: 0.7738\n",
            "Epoch 27/30\n",
            "2488/2488 [==============================] - 4s 2ms/step - loss: 0.5289 - accuracy: 0.7758 - val_loss: 0.5310 - val_accuracy: 0.7738\n",
            "Epoch 28/30\n",
            "2488/2488 [==============================] - 4s 2ms/step - loss: 0.5301 - accuracy: 0.7759 - val_loss: 0.5330 - val_accuracy: 0.7738\n",
            "Epoch 29/30\n",
            "2488/2488 [==============================] - 5s 2ms/step - loss: 0.5317 - accuracy: 0.7757 - val_loss: 0.5308 - val_accuracy: 0.7740\n",
            "Epoch 30/30\n",
            "2488/2488 [==============================] - 4s 2ms/step - loss: 0.5290 - accuracy: 0.7758 - val_loss: 0.5314 - val_accuracy: 0.7740\n"
          ]
        }
      ]
    },
    {
      "cell_type": "code",
      "source": [
        "import matplotlib.pyplot as plt\n",
        "\n",
        "plt.figure(figsize=(12,5))\n",
        "plt.subplot(1, 2, 1)\n",
        "plt.plot(history.history['loss'], label='Training Loss')\n",
        "plt.plot(history.history['val_loss'], label='Validation Loss')\n",
        "plt.plot(history.history['accuracy'], label='Accuracy')\n",
        "plt.plot(history.history['val_accuracy'], label='Validation Accuracy')\n",
        "\n",
        "plt.legend()\n"
      ],
      "metadata": {
        "colab": {
          "base_uri": "https://localhost:8080/",
          "height": 462
        },
        "id": "4IrD3frBIrtt",
        "outputId": "3777531c-0942-47c1-c035-045086799258"
      },
      "execution_count": 29,
      "outputs": [
        {
          "output_type": "execute_result",
          "data": {
            "text/plain": [
              "<matplotlib.legend.Legend at 0x7ef27e98c430>"
            ]
          },
          "metadata": {},
          "execution_count": 29
        },
        {
          "output_type": "display_data",
          "data": {
            "text/plain": [
              "<Figure size 1200x500 with 1 Axes>"
            ],
            "image/png": "[encoded data removed]"
          },
          "metadata": {}
        }
      ]
    },
    {
      "cell_type": "code",
      "source": [
        "y_pred_probs = model.predict(X_test)\n",
        "# print(y_pred_probs)\n",
        "y_pred = np.where(y_pred_probs>0.5,1,0)"
      ],
      "metadata": {
        "colab": {
          "base_uri": "https://localhost:8080/"
        },
        "id": "KTdnC1dQRdz6",
        "outputId": "d3f9e93d-4b78-449d-d035-80963aa52983"
      },
      "execution_count": 30,
      "outputs": [
        {
          "output_type": "stream",
          "name": "stdout",
          "text": [
            "622/622 [==============================] - 1s 1ms/step\n"
          ]
        }
      ]
    },
    {
      "cell_type": "code",
      "source": [
        "from sklearn.metrics import accuracy_score\n",
        "\n",
        "test_accuracy = accuracy_score(y_pred, y_test)\n",
        "print(\"\\nTest accuracy: {}\".format(test_accuracy))\n"
      ],
      "metadata": {
        "colab": {
          "base_uri": "https://localhost:8080/"
        },
        "id": "0JZAeasASztv",
        "outputId": "da657c03-18bd-4025-d9e6-8c765e037cbc"
      },
      "execution_count": 31,
      "outputs": [
        {
          "output_type": "stream",
          "name": "stdout",
          "text": [
            "\n",
            "Test accuracy: 0.7740152733118971\n"
          ]
        }
      ]
    },
    {
      "cell_type": "code",
      "source": [
        "from sklearn.metrics import mean_squared_error\n",
        "\n",
        "mse = mean_squared_error(y_pred, y_test)\n",
        "print(\"\\nTest accuracy: {}\".format(mse))"
      ],
      "metadata": {
        "colab": {
          "base_uri": "https://localhost:8080/"
        },
        "id": "KgPAJMHLUUYv",
        "outputId": "7e88a19a-1ce7-4dfb-ae5a-e63a3d09f605"
      },
      "execution_count": 32,
      "outputs": [
        {
          "output_type": "stream",
          "name": "stdout",
          "text": [
            "\n",
            "Test accuracy: 0.2259847266881029\n"
          ]
        }
      ]
    },
    {
      "cell_type": "code",
      "source": [
        "from keras.models import Sequential\n",
        "from keras.layers import Flatten, LSTM, Dense\n",
        "\n",
        "model = Sequential()\n",
        "model.add(LSTM(50, activation='relu', input_shape=(X_train.shape[1], 1)))\n",
        "model.add(Dense(64))\n",
        "model.add(Dense(64))\n",
        "model.add(Dense(1))\n",
        "model.compile(optimizer='Adam', loss=\"mean_squared_error\")\n",
        "model.summary()"
      ],
      "metadata": {
        "colab": {
          "base_uri": "https://localhost:8080/"
        },
        "id": "_Nq3lQvlVSq_",
        "outputId": "ec174146-b49b-4ab1-d336-617f334c1664"
      },
      "execution_count": 35,
      "outputs": [
        {
          "output_type": "stream",
          "name": "stdout",
          "text": [
            "Model: \"sequential_6\"\n",
            "_________________________________________________________________\n",
            " Layer (type)                Output Shape              Param #   \n",
            "=================================================================\n",
            " lstm (LSTM)                 (None, 50)                10400     \n",
            "                                                                 \n",
            " dense_13 (Dense)            (None, 64)                3264      \n",
            "                                                                 \n",
            " dense_14 (Dense)            (None, 64)                4160      \n",
            "                                                                 \n",
            " dense_15 (Dense)            (None, 1)                 65        \n",
            "                                                                 \n",
            "=================================================================\n",
            "Total params: 17889 (69.88 KB)\n",
            "Trainable params: 17889 (69.88 KB)\n",
            "Non-trainable params: 0 (0.00 Byte)\n",
            "_________________________________________________________________\n"
          ]
        }
      ]
    },
    {
      "cell_type": "code",
      "source": [
        "history = model.fit(X_train, y_train, epochs=20, batch_size=64, validation_split=0.2, verbose=1)"
      ],
      "metadata": {
        "colab": {
          "base_uri": "https://localhost:8080/"
        },
        "id": "D_uDP_s6jTkY",
        "outputId": "33460950-c028-475f-8c4c-ca38dac1ef15"
      },
      "execution_count": 36,
      "outputs": [
        {
          "output_type": "stream",
          "name": "stdout",
          "text": [
            "Epoch 1/20\n",
            "996/996 [==============================] - 12s 11ms/step - loss: 983.7735 - val_loss: 1.4421\n",
            "Epoch 2/20\n",
            "996/996 [==============================] - 11s 11ms/step - loss: 0.5269 - val_loss: 0.3369\n",
            "Epoch 3/20\n",
            "996/996 [==============================] - 10s 10ms/step - loss: 0.3060 - val_loss: 0.1980\n",
            "Epoch 4/20\n",
            "996/996 [==============================] - 10s 10ms/step - loss: 0.1865 - val_loss: 0.1712\n",
            "Epoch 5/20\n",
            "996/996 [==============================] - 10s 10ms/step - loss: 0.1671 - val_loss: 0.1597\n",
            "Epoch 6/20\n",
            "996/996 [==============================] - 10s 10ms/step - loss: 0.1610 - val_loss: 0.1486\n",
            "Epoch 7/20\n",
            "996/996 [==============================] - 11s 11ms/step - loss: 0.1511 - val_loss: 0.1425\n",
            "Epoch 8/20\n",
            "996/996 [==============================] - 11s 11ms/step - loss: 0.1561 - val_loss: 0.1394\n",
            "Epoch 9/20\n",
            "996/996 [==============================] - 10s 10ms/step - loss: 0.1450 - val_loss: 0.1475\n",
            "Epoch 10/20\n",
            "996/996 [==============================] - 11s 11ms/step - loss: 0.1378 - val_loss: 0.1649\n",
            "Epoch 11/20\n",
            "996/996 [==============================] - 10s 10ms/step - loss: 0.1362 - val_loss: 0.1319\n",
            "Epoch 12/20\n",
            "996/996 [==============================] - 11s 11ms/step - loss: 0.1307 - val_loss: 0.1438\n",
            "Epoch 13/20\n",
            "996/996 [==============================] - 11s 11ms/step - loss: 0.1282 - val_loss: 0.1308\n",
            "Epoch 14/20\n",
            "996/996 [==============================] - 11s 11ms/step - loss: 0.1257 - val_loss: 0.1211\n",
            "Epoch 15/20\n",
            "996/996 [==============================] - 10s 10ms/step - loss: 0.1233 - val_loss: 0.1234\n",
            "Epoch 16/20\n",
            "996/996 [==============================] - 10s 10ms/step - loss: 11746.3877 - val_loss: 0.4097\n",
            "Epoch 17/20\n",
            "996/996 [==============================] - 10s 10ms/step - loss: 3135.4524 - val_loss: 6.6472\n",
            "Epoch 18/20\n",
            "996/996 [==============================] - 11s 11ms/step - loss: 4.6802 - val_loss: 0.2099\n",
            "Epoch 19/20\n",
            "996/996 [==============================] - 10s 10ms/step - loss: 0.1911 - val_loss: 0.1823\n",
            "Epoch 20/20\n",
            "996/996 [==============================] - 11s 11ms/step - loss: 0.1740 - val_loss: 0.1680\n"
          ]
        }
      ]
    },
    {
      "cell_type": "code",
      "source": [
        "plt.figure(figsize=(12, 5))\n",
        "plt.subplot(1, 2, 1)\n",
        "plt.plot(history.history['loss'], label='Training Loss')\n",
        "plt.plot(history.history['val_loss'], label='Validation Loss')\n",
        "plt.legend()"
      ],
      "metadata": {
        "colab": {
          "base_uri": "https://localhost:8080/",
          "height": 462
        },
        "id": "K87OJJvckoTl",
        "outputId": "af090b10-8d90-44d7-b836-4d72176dff1e"
      },
      "execution_count": 37,
      "outputs": [
        {
          "output_type": "execute_result",
          "data": {
            "text/plain": [
              "<matplotlib.legend.Legend at 0x7ef279fcea70>"
            ]
          },
          "metadata": {},
          "execution_count": 37
        },
        {
          "output_type": "display_data",
          "data": {
            "text/plain": [
              "<Figure size 1200x500 with 1 Axes>"
            ],
            "image/png": "[encoded data removed]"
          },
          "metadata": {}
        }
      ]
    },
    {
      "cell_type": "code",
      "source": [
        "from sklearn.metrics import mean_squared_error\n",
        "\n",
        "# Make predictions\n",
        "y_pred = model.predict(X_test)\n",
        "\n",
        "# Calculate and print the Mean Squared Error\n",
        "mse = mean_squared_error(y_test, y_pred)\n",
        "print(\"\\nMean Squared Error: {}\".format(mse))"
      ],
      "metadata": {
        "colab": {
          "base_uri": "https://localhost:8080/"
        },
        "id": "cdb_QE4kkxEG",
        "outputId": "6a46861b-8f5d-453f-cdd0-eb2a793abc93"
      },
      "execution_count": 38,
      "outputs": [
        {
          "output_type": "stream",
          "name": "stdout",
          "text": [
            "622/622 [==============================] - 2s 3ms/step\n",
            "\n",
            "Mean Squared Error: 0.16912867280276558\n"
          ]
        }
      ]
    }
  ]
}